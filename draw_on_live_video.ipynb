{
 "cells": [
  {
   "cell_type": "code",
   "execution_count": 1,
   "metadata": {},
   "outputs": [],
   "source": [
    "import cv2"
   ]
  },
  {
   "cell_type": "code",
   "execution_count": 7,
   "metadata": {},
   "outputs": [],
   "source": [
    "#Draw static rectangle\n",
    "cap = cv2.VideoCapture(0)\n",
    "\n",
    "width = int(cap.get(cv2.CAP_PROP_FRAME_WIDTH))\n",
    "height = int(cap.get(cv2.CAP_PROP_FRAME_HEIGHT))\n",
    "\n",
    "while True:\n",
    "    \n",
    "    ret, frame = cap.read()\n",
    "    \n",
    "    frame = cv2.rectangle(frame,\n",
    "                          (width//2,height//2), \n",
    "                          (3*width//4,3*height//4),\n",
    "                          color = (255,0,0),\n",
    "                          thickness = 5)\n",
    "    cv2.imshow('f',frame)\n",
    "    \n",
    "    if cv2.waitKey(1) & 0xFF == 27:\n",
    "        break\n",
    "\n",
    "cap.release()\n",
    "cv2.destroyAllWindows()"
   ]
  },
  {
   "cell_type": "code",
   "execution_count": 10,
   "metadata": {},
   "outputs": [],
   "source": [
    "#Draw using mouse click\n",
    "                   \n",
    "\n",
    "#callback function\n",
    "def draw_rect(event,x,y,flags,param):\n",
    "    \n",
    "    global pt1,pt2,top_left_clicked,bottom_right_clicked\n",
    "    \n",
    "    if event == cv2.EVENT_LBUTTONDOWN:\n",
    "        \n",
    "        #RESET Rect\n",
    "        if top_left_clicked and bottom_right_clicked:\n",
    "            pt1 = (0,0)\n",
    "            pt2 = (0,0)\n",
    "            top_left_clicked = False\n",
    "            bottom_right_clicked = False\n",
    "        \n",
    "        if top_left_clicked == False:\n",
    "            pt1= (x,y)\n",
    "            top_left_clicked = True\n",
    "        \n",
    "        elif bottom_right_clicked == False:\n",
    "            pt2 = (x,y) \n",
    "            bottom_right_clicked = True\n",
    "    \n",
    "\n",
    "#global variables\n",
    "pt1 = (0,0)\n",
    "pt2 = (0,0)\n",
    "top_left_clicked = False\n",
    "bottom_right_clicked = False\n",
    "\n",
    "#connect to callback\n",
    "cap = cv2.VideoCapture(0)\n",
    "\n",
    "cv2.namedWindow('test')\n",
    "cv2.setMouseCallback('test', draw_rect)\n",
    "\n",
    "\n",
    "\n",
    "while True:\n",
    "    \n",
    "    ret, frame = cap.read()\n",
    "    #draw rect based on global variable status\n",
    "    if top_left_clicked == True:\n",
    "        frame =cv2.circle(frame,center=pt1,radius=5,color=(255,0,0),thickness=-1)\n",
    "        \n",
    "    if top_left_clicked and bottom_right_clicked:\n",
    "        frame=cv2.rectangle(frame,pt1,pt2,(0,255,0),3)\n",
    "    \n",
    "    cv2.imshow('test',frame)\n",
    "    \n",
    "    if cv2.waitKey(1) & 0xFF == 27:\n",
    "        break\n",
    "\n",
    "cap.release()\n",
    "cv2.destroyAllWindows()"
   ]
  },
  {
   "cell_type": "code",
   "execution_count": null,
   "metadata": {},
   "outputs": [],
   "source": []
  }
 ],
 "metadata": {
  "kernelspec": {
   "display_name": "Python 3",
   "language": "python",
   "name": "python3"
  },
  "language_info": {
   "codemirror_mode": {
    "name": "ipython",
    "version": 3
   },
   "file_extension": ".py",
   "mimetype": "text/x-python",
   "name": "python",
   "nbconvert_exporter": "python",
   "pygments_lexer": "ipython3",
   "version": "3.7.4"
  }
 },
 "nbformat": 4,
 "nbformat_minor": 2
}
