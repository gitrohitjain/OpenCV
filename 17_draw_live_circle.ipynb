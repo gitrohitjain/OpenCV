{
 "cells": [
  {
   "cell_type": "code",
   "execution_count": 1,
   "metadata": {},
   "outputs": [],
   "source": [
    "import cv2"
   ]
  },
  {
   "cell_type": "code",
   "execution_count": 6,
   "metadata": {},
   "outputs": [],
   "source": [
    "def draw_circle(event,x,y,s,t):\n",
    "    global xi,yi,mc\n",
    "    \n",
    "    if event == cv2.EVENT_LBUTTONDOWN:\n",
    "        \n",
    "        if mc == True:\n",
    "            xi=0\n",
    "            yi=0\n",
    "            mc = False\n",
    "        \n",
    "        if mc == False:\n",
    "            xi=x\n",
    "            yi=y\n",
    "            mc = True        \n",
    "    \n",
    "\n",
    "#Global Variables\n",
    "xi=0\n",
    "yi=0\n",
    "mc = False\n",
    "\n",
    "#Callback\n",
    "cap = cv2.VideoCapture(0)\n",
    "cv2.namedWindow('test')\n",
    "cv2.setMouseCallback('test',draw_circle)\n",
    "\n",
    "while True:\n",
    "    \n",
    "    _,frame = cap.read()\n",
    "    \n",
    "    if mc == True:\n",
    "        cv2.circle(frame, center=(xi,yi), radius = 15, color=110, thickness=3)\n",
    "        \n",
    "    cv2.imshow('test',frame)\n",
    "    \n",
    "    if cv2.waitKey(1) & 0xFF == 27:\n",
    "        break\n",
    "\n",
    "cap.release()\n",
    "cv2.destroyAllWindows()  \n",
    "    "
   ]
  },
  {
   "cell_type": "code",
   "execution_count": null,
   "metadata": {},
   "outputs": [],
   "source": []
  }
 ],
 "metadata": {
  "kernelspec": {
   "display_name": "Python 3",
   "language": "python",
   "name": "python3"
  },
  "language_info": {
   "codemirror_mode": {
    "name": "ipython",
    "version": 3
   },
   "file_extension": ".py",
   "mimetype": "text/x-python",
   "name": "python",
   "nbconvert_exporter": "python",
   "pygments_lexer": "ipython3",
   "version": "3.7.4"
  }
 },
 "nbformat": 4,
 "nbformat_minor": 2
}
